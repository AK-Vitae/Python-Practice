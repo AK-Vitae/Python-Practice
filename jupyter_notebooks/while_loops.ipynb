{
 "cells": [
  {
   "cell_type": "code",
   "execution_count": 18,
   "metadata": {},
   "outputs": [
    {
     "name": "stdout",
     "output_type": "stream",
     "text": [
      "1\n",
      "2\n",
      "3\n",
      "4\n",
      "5\n",
      "\n",
      "\n"
     ]
    }
   ],
   "source": [
    "current_number = 1\n",
    "while current_number <= 5:\n",
    "    print(current_number)\n",
    "    current_number += 1\n",
    "print(\"\\n\")"
   ]
  },
  {
   "cell_type": "markdown",
   "metadata": {},
   "source": [
    "## Letting the User Choose When to Quit"
   ]
  },
  {
   "cell_type": "code",
   "execution_count": 19,
   "metadata": {},
   "outputs": [
    {
     "name": "stdout",
     "output_type": "stream",
     "text": [
      "Tell me a number, and I will count to that number from 1:\n",
      "Enter 0 to end the program. 10\n",
      "1\n",
      "2\n",
      "3\n",
      "4\n",
      "5\n",
      "6\n",
      "7\n",
      "8\n",
      "9\n",
      "10\n",
      "\n",
      "\n",
      "Tell me a number, and I will count to that number from 1:\n",
      "Enter 0 to end the program. 0\n",
      "\n",
      "\n",
      "Thank you for your time\n"
     ]
    }
   ],
   "source": [
    "prompt = \"Tell me a number, and I will count to that number from 1:\"\n",
    "prompt += \"\\nEnter 0 to end the program. \"\n",
    "number = 1\n",
    "while number != 0:\n",
    "    number = int(input(prompt))\n",
    "    for count in range(1, number + 1):\n",
    "        print(count)\n",
    "    print(\"\\n\")\n",
    "print(\"Thank you for your time\")"
   ]
  },
  {
   "cell_type": "markdown",
   "metadata": {},
   "source": [
    "## Using a Flag"
   ]
  },
  {
   "cell_type": "code",
   "execution_count": 20,
   "metadata": {},
   "outputs": [
    {
     "name": "stdout",
     "output_type": "stream",
     "text": [
      "Tell me a number, and I will count to that number from 1:\n",
      "Enter 0 to end the program. 4\n",
      "1\n",
      "2\n",
      "3\n",
      "4\n",
      "\n",
      "\n",
      "Tell me a number, and I will count to that number from 1:\n",
      "Enter 0 to end the program. 0\n",
      "Thank you for your time\n"
     ]
    }
   ],
   "source": [
    "prompt = \"Tell me a number, and I will count to that number from 1:\"\n",
    "prompt += \"\\nEnter 0 to end the program. \"\n",
    "active = True  # flag acts as a signal for the program\n",
    "while active:\n",
    "    number = int(input(prompt))\n",
    "    if number == 0:\n",
    "        active = False\n",
    "        print(\"Thank you for your time\")\n",
    "    else:\n",
    "        for count in range(1, number + 1):\n",
    "            print(count)\n",
    "        print(\"\\n\")"
   ]
  },
  {
   "cell_type": "markdown",
   "metadata": {},
   "source": [
    "##  Using break to Exit a Loop"
   ]
  },
  {
   "cell_type": "code",
   "execution_count": 21,
   "metadata": {},
   "outputs": [
    {
     "name": "stdout",
     "output_type": "stream",
     "text": [
      "\n",
      "Please enter your favorite number (Enter 'quit' when you are finished.): 7\n",
      "7 is a fantastic number\n",
      "\n",
      "Please enter your favorite number (Enter 'quit' when you are finished.): quit\n"
     ]
    }
   ],
   "source": [
    "prompt = \"\\nPlease enter your favorite number (Enter 'quit' when you are finished.): \"\n",
    "while True:\n",
    "    message = input(prompt)\n",
    "    if message == 'quit':\n",
    "        break\n",
    "    else:\n",
    "        print(f'{message} is a fantastic number')"
   ]
  },
  {
   "cell_type": "markdown",
   "metadata": {},
   "source": [
    "##  Using continue in a Loop"
   ]
  },
  {
   "cell_type": "code",
   "execution_count": 22,
   "metadata": {},
   "outputs": [
    {
     "name": "stdout",
     "output_type": "stream",
     "text": [
      "Please enter a number and I will print out all the preceding odd numbers: 12\n",
      "1\n",
      "3\n",
      "5\n",
      "7\n",
      "9\n",
      "11\n"
     ]
    }
   ],
   "source": [
    "current_number = 0\n",
    "prompt = \"Please enter a number and I will print out all the preceding odd numbers: \"\n",
    "number = int(input(prompt))\n",
    "while current_number < number:\n",
    "    current_number += 1\n",
    "    if current_number % 2 == 0:\n",
    "        continue\n",
    "    print(current_number)"
   ]
  },
  {
   "cell_type": "markdown",
   "metadata": {},
   "source": [
    "## Moving Items from One List to Another"
   ]
  },
  {
   "cell_type": "code",
   "execution_count": 23,
   "metadata": {},
   "outputs": [
    {
     "name": "stdout",
     "output_type": "stream",
     "text": [
      "Verifying user: jSmith\n",
      "Verifying user: jDoe\n",
      "Verifying user: mPark\n",
      "Verifying user: aJones\n",
      "\n",
      "The following usernames have been confirmed:\n",
      "jSmith\n",
      "jDoe\n",
      "mPark\n",
      "aJones\n"
     ]
    }
   ],
   "source": [
    "unconfirmed_users = ['jSmith', 'jDoe', 'mPark', 'aJones']\n",
    "confirmed_users = []\n",
    "while unconfirmed_users:\n",
    "    current_user = unconfirmed_users.pop(0)\n",
    "    print(f\"Verifying user: {current_user}\")\n",
    "    confirmed_users.append(current_user)\n",
    "print(\"\\nThe following usernames have been confirmed:\")\n",
    "for confirmed_user in confirmed_users:\n",
    "    print(confirmed_user)"
   ]
  },
  {
   "cell_type": "markdown",
   "metadata": {},
   "source": [
    "## Removing All Instances of Specific Values from a List"
   ]
  },
  {
   "cell_type": "code",
   "execution_count": 24,
   "metadata": {},
   "outputs": [
    {
     "name": "stdout",
     "output_type": "stream",
     "text": [
      "['jSmith', 'jDoe', 'mPark', 'aJones', 'jPatel', 'jDoe', 'tJones']\n",
      "jDoe as a username is already taken\n",
      "['jSmith', 'mPark', 'aJones', 'jPatel', 'tJones']\n"
     ]
    }
   ],
   "source": [
    "unconfirmed_users = ['jSmith', 'jDoe', 'mPark', 'aJones', 'jPatel', 'jDoe', 'tJones']\n",
    "print(unconfirmed_users)\n",
    "while 'jDoe' in unconfirmed_users:\n",
    "    unconfirmed_users.remove('jDoe')\n",
    "print(\"jDoe as a username is already taken\")\n",
    "print(unconfirmed_users)"
   ]
  },
  {
   "cell_type": "markdown",
   "metadata": {},
   "source": [
    "## Filling a Dictionary with User Input"
   ]
  },
  {
   "cell_type": "code",
   "execution_count": 25,
   "metadata": {},
   "outputs": [
    {
     "name": "stdout",
     "output_type": "stream",
     "text": [
      "\n",
      "What is your name? Alex\n",
      "\n",
      "What game do you like? Call of Duty\n",
      "Would you like to let another person respond? (yes/ no) yes\n",
      "\n",
      "What is your name? Mary\n",
      "\n",
      "What game do you like? League of Legends\n",
      "Would you like to let another person respond? (yes/ no) yes\n",
      "\n",
      "What is your name? Felix\n",
      "\n",
      "What game do you like? Minecraft\n",
      "Would you like to let another person respond? (yes/ no) no\n",
      "\n",
      "--- Poll Results ---\n",
      "Alex likes Call of Duty.\n",
      "Mary likes League of Legends.\n",
      "Felix likes Minecraft.\n"
     ]
    }
   ],
   "source": [
    "responses = {}\n",
    "polling_active = True\n",
    "while polling_active:\n",
    "    name = input(\"\\nWhat is your name? \")\n",
    "    response = input(\"\\nWhat game do you like? \")\n",
    "    responses[name] = response\n",
    "    repeat = input(\"Would you like to let another person respond? (yes/ no) \")\n",
    "    if repeat == \"no\":\n",
    "        polling_active = False\n",
    "print(\"\\n--- Poll Results ---\")\n",
    "for name, response in responses.items():\n",
    "    print(f\"{name} likes {response}.\")"
   ]
  }
 ],
 "metadata": {
  "kernelspec": {
   "display_name": "Python 3",
   "language": "python",
   "name": "python3"
  },
  "language_info": {
   "codemirror_mode": {
    "name": "ipython",
    "version": 3
   },
   "file_extension": ".py",
   "mimetype": "text/x-python",
   "name": "python",
   "nbconvert_exporter": "python",
   "pygments_lexer": "ipython3",
   "version": "3.7.6"
  }
 },
 "nbformat": 4,
 "nbformat_minor": 4
}
