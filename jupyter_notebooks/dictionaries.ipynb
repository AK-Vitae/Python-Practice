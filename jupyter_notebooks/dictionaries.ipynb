{
 "cells": [
  {
   "cell_type": "code",
   "execution_count": 25,
   "metadata": {},
   "outputs": [],
   "source": [
    "dog_0 = {'breed': 'shiba inu', 'age': 5}"
   ]
  },
  {
   "cell_type": "code",
   "execution_count": 26,
   "metadata": {},
   "outputs": [
    {
     "name": "stdout",
     "output_type": "stream",
     "text": [
      "Shiba Inu\n",
      "5\n"
     ]
    }
   ],
   "source": [
    "print(dog_0['breed'].title())\n",
    "print(dog_0['age'])"
   ]
  },
  {
   "cell_type": "markdown",
   "metadata": {},
   "source": [
    "## Accessing Values in a Dictionary"
   ]
  },
  {
   "cell_type": "code",
   "execution_count": 27,
   "metadata": {},
   "outputs": [
    {
     "name": "stdout",
     "output_type": "stream",
     "text": [
      "Your dog will turn 6 next week!\n"
     ]
    }
   ],
   "source": [
    "birthday = dog_0['age'] + 1\n",
    "print(f'Your dog will turn {birthday} next week!')"
   ]
  },
  {
   "cell_type": "markdown",
   "metadata": {},
   "source": [
    "## Adding New Key-Value Pairs"
   ]
  },
  {
   "cell_type": "code",
   "execution_count": 28,
   "metadata": {},
   "outputs": [
    {
     "name": "stdout",
     "output_type": "stream",
     "text": [
      "{'breed': 'shiba inu', 'age': 5}\n",
      "{'breed': 'shiba inu', 'age': 5, 'fur color': 'black and tan', 'weight': 30}\n"
     ]
    }
   ],
   "source": [
    "print(dog_0)\n",
    "dog_0['fur color'] = 'black and tan'\n",
    "dog_0['weight'] = 30\n",
    "print(dog_0)"
   ]
  },
  {
   "cell_type": "markdown",
   "metadata": {},
   "source": [
    "## Modifying Values in a Dictionary"
   ]
  },
  {
   "cell_type": "code",
   "execution_count": 29,
   "metadata": {},
   "outputs": [
    {
     "name": "stdout",
     "output_type": "stream",
     "text": [
      "{'breed': 'shiba inu', 'age': 5, 'fur color': 'black and tan', 'weight': 30}\n",
      "Your Shiba Inu is now 28 lbs.\n"
     ]
    }
   ],
   "source": [
    "print(dog_0)\n",
    "dog_0['weight'] = 28\n",
    "print(f\"Your {dog_0['breed'].title()} is now {dog_0['weight']} lbs.\")"
   ]
  },
  {
   "cell_type": "code",
   "execution_count": 30,
   "metadata": {},
   "outputs": [
    {
     "name": "stdout",
     "output_type": "stream",
     "text": [
      "Dog's starting position in this game of fetch: 0\n",
      "New position of dog is 1\n"
     ]
    }
   ],
   "source": [
    "dog_0 = {'x_position': 0, 'y_position': 25, 'speed': 'slow'}\n",
    "print(f\"Dog's starting position in this game of fetch: {dog_0['x_position']}\")\n",
    "if dog_0['speed'] == 'slow':\n",
    "    x_increment = 1\n",
    "elif dog_0['speed'] == 'medium':\n",
    "    x_increment = 2\n",
    "else:\n",
    "    x_increment = 3\n",
    "dog_0['x_position'] = dog_0['x_position'] + x_increment\n",
    "print(f\"New position of dog is {dog_0['x_position']}\")"
   ]
  },
  {
   "cell_type": "markdown",
   "metadata": {},
   "source": [
    "## Removing Key-Value Pairs"
   ]
  },
  {
   "cell_type": "code",
   "execution_count": 31,
   "metadata": {},
   "outputs": [
    {
     "name": "stdout",
     "output_type": "stream",
     "text": [
      "{'x_position': 1, 'y_position': 25, 'speed': 'slow'}\n",
      "{'x_position': 1, 'speed': 'slow'}\n"
     ]
    }
   ],
   "source": [
    "print(dog_0)\n",
    "del dog_0['y_position']\n",
    "print(dog_0)"
   ]
  },
  {
   "cell_type": "markdown",
   "metadata": {},
   "source": [
    "## Using get() to Access Values"
   ]
  },
  {
   "cell_type": "code",
   "execution_count": 32,
   "metadata": {},
   "outputs": [
    {
     "name": "stdout",
     "output_type": "stream",
     "text": [
      "No weight recorded\n"
     ]
    }
   ],
   "source": [
    "dog_0 = {'breed': 'shiba inu', 'age': 5}\n",
    "# The get() method requires a key as a first argument.\n",
    "# As a second optional argument, you can pass the value to be returned if the key does not exist.\n",
    "weight = dog_0.get('weight', 'No weight recorded')\n",
    "print(weight)"
   ]
  },
  {
   "cell_type": "markdown",
   "metadata": {},
   "source": [
    "## Looping Through All Key-Value Pairs"
   ]
  },
  {
   "cell_type": "code",
   "execution_count": 33,
   "metadata": {},
   "outputs": [
    {
     "name": "stdout",
     "output_type": "stream",
     "text": [
      "Jen's favorite programming language is Python\n",
      "Sarah's favorite programming language is C\n",
      "Edward's favorite programming language is Ruby\n",
      "Phil's favorite programming language is Python\n"
     ]
    }
   ],
   "source": [
    "favorite_languages = {\n",
    "    'jen': 'python',\n",
    "    'sarah': 'c',\n",
    "    'edward': 'ruby',\n",
    "    'phil': 'python',\n",
    "}\n",
    "for name, language in favorite_languages.items():  # items() returns a list of key-value pairs\n",
    "    print(f\"{name.title()}'s favorite programming language is {language.title()}\")"
   ]
  },
  {
   "cell_type": "code",
   "execution_count": 34,
   "metadata": {},
   "outputs": [
    {
     "name": "stdout",
     "output_type": "stream",
     "text": [
      "Python is GOAT, let's see who thinks otherwise\n",
      "Jen, I see you like Python.\n",
      "\tYou have great taste\n",
      "Sarah, I see you like C.\n",
      "\tYou have poor taste\n",
      "Edward, I see you like Ruby.\n",
      "\tYou have poor taste\n",
      "Phil, I see you like Python.\n",
      "\tYou have great taste\n"
     ]
    }
   ],
   "source": [
    "print(\"Python is GOAT, let's see who thinks otherwise\")\n",
    "for name, language in favorite_languages.items():\n",
    "    print(f\"{name.title()}, I see you like {language.title()}.\")\n",
    "    if language.title() != 'Python':\n",
    "        print(\"\\tYou have poor taste\")\n",
    "    else:\n",
    "        print(\"\\tYou have great taste\")"
   ]
  },
  {
   "cell_type": "markdown",
   "metadata": {},
   "source": [
    "## Looping Through All the Keys in a Dictionary"
   ]
  },
  {
   "cell_type": "code",
   "execution_count": 35,
   "metadata": {},
   "outputs": [
    {
     "name": "stdout",
     "output_type": "stream",
     "text": [
      "Jen\n",
      "\tJen, I see you love Python!\n",
      "Sarah\n",
      "Edward\n",
      "Phil\n",
      "\tPhil, I see you love Python!\n"
     ]
    }
   ],
   "source": [
    "friends = ['jen', 'phil']\n",
    "for name in favorite_languages.keys():  # keys() accesses key values\n",
    "    print(name.title())\n",
    "    if name in friends:\n",
    "        language = favorite_languages[name].title()\n",
    "        print(f\"\\t{name.title()}, I see you love {language}!\")"
   ]
  },
  {
   "cell_type": "code",
   "execution_count": 36,
   "metadata": {},
   "outputs": [
    {
     "name": "stdout",
     "output_type": "stream",
     "text": [
      "Edward, thank you for taking the poll.\n",
      "Jen, thank you for taking the poll.\n",
      "Phil, thank you for taking the poll.\n",
      "Sarah, thank you for taking the poll.\n"
     ]
    }
   ],
   "source": [
    "for name in sorted(favorite_languages.keys()):\n",
    "    print(f\"{name.title()}, thank you for taking the poll.\")"
   ]
  },
  {
   "cell_type": "markdown",
   "metadata": {},
   "source": [
    "## Looping Through All Values in a Dictionary"
   ]
  },
  {
   "cell_type": "code",
   "execution_count": 37,
   "metadata": {},
   "outputs": [
    {
     "name": "stdout",
     "output_type": "stream",
     "text": [
      "The following languages have been mentioned:\n",
      "Python\n",
      "C\n",
      "Ruby\n",
      "Python\n"
     ]
    }
   ],
   "source": [
    "favorite_languages = {\n",
    "    'jen': 'python',\n",
    "    'sarah': 'c',\n",
    "    'edward': 'ruby',\n",
    "    'phil': 'python',\n",
    "}\n",
    "print(\"The following languages have been mentioned:\")\n",
    "for language in favorite_languages.values():\n",
    "    print(language.title())"
   ]
  },
  {
   "cell_type": "code",
   "execution_count": 38,
   "metadata": {},
   "outputs": [
    {
     "name": "stdout",
     "output_type": "stream",
     "text": [
      "The following languages have been mentioned:\n",
      "Python\n",
      "Ruby\n",
      "C\n"
     ]
    }
   ],
   "source": [
    "print(\"The following languages have been mentioned:\")\n",
    "for language in set(favorite_languages.values()):\n",
    "    # set() identifies the unique items in the list and builds a set from those items\n",
    "    print(language.title())"
   ]
  },
  {
   "cell_type": "markdown",
   "metadata": {},
   "source": [
    "## A List of Dictionaries"
   ]
  },
  {
   "cell_type": "code",
   "execution_count": 39,
   "metadata": {},
   "outputs": [
    {
     "name": "stdout",
     "output_type": "stream",
     "text": [
      "{'breed': 'shiba inu', 'age': 5}\n",
      "{'breed': 'husky', 'age': 3}\n",
      "{'breed': 'golden retriever', 'age': 7}\n"
     ]
    }
   ],
   "source": [
    "dog_0 = {'breed': 'shiba inu', 'age': 5}\n",
    "dog_1 = {'breed': 'husky', 'age': 3}\n",
    "dog_2 = {'breed': 'golden retriever', 'age': 7}\n",
    "dogs = [dog_0, dog_1, dog_2]\n",
    "for dog in dogs:\n",
    "    print(dog)"
   ]
  },
  {
   "cell_type": "markdown",
   "metadata": {},
   "source": [
    "## A List in Dictionary"
   ]
  },
  {
   "cell_type": "code",
   "execution_count": 40,
   "metadata": {},
   "outputs": [],
   "source": [
    "dog_food = {\n",
    "    'protein': 'chicken',\n",
    "    'vegetables': ['carrots', 'green beans', 'potatoes']\n",
    "}"
   ]
  },
  {
   "cell_type": "code",
   "execution_count": 41,
   "metadata": {},
   "outputs": [
    {
     "name": "stdout",
     "output_type": "stream",
     "text": [
      "You bought chicken kibble with the following vegetables:\n",
      "\tcarrots\n",
      "\tgreen beans\n",
      "\tpotatoes\n"
     ]
    }
   ],
   "source": [
    "print(f\"You bought {dog_food['protein']} kibble \"\n",
    "      \"with the following vegetables:\")\n",
    "for vegetable in dog_food['vegetables']:\n",
    "    print(\"\\t\" + vegetable)"
   ]
  },
  {
   "cell_type": "code",
   "execution_count": 42,
   "metadata": {},
   "outputs": [],
   "source": [
    "favorite_languages = {\n",
    "    'jen': ['python', 'ruby'],\n",
    "    'sarah': ['c'],\n",
    "    'edward': ['ruby', 'go'],\n",
    "    'phil': ['python', 'haskell'],\n",
    "}"
   ]
  },
  {
   "cell_type": "code",
   "execution_count": 43,
   "metadata": {},
   "outputs": [
    {
     "name": "stdout",
     "output_type": "stream",
     "text": [
      "\n",
      "Jen's favorite languages are:\n",
      "\tPython\n",
      "\tRuby\n",
      "\n",
      "Sarah's favorite languages are:\n",
      "\tC\n",
      "\n",
      "Edward's favorite languages are:\n",
      "\tRuby\n",
      "\tGo\n",
      "\n",
      "Phil's favorite languages are:\n",
      "\tPython\n",
      "\tHaskell\n"
     ]
    }
   ],
   "source": [
    "for name, languages in favorite_languages.items():\n",
    "    print(f\"\\n{name.title()}'s favorite languages are:\")\n",
    "    for language in languages:\n",
    "        print(f\"\\t{language.title()}\")"
   ]
  },
  {
   "cell_type": "markdown",
   "metadata": {},
   "source": [
    "## A Dictionary in a Dictionary"
   ]
  },
  {
   "cell_type": "code",
   "execution_count": 44,
   "metadata": {},
   "outputs": [],
   "source": [
    "programmers = {\n",
    "    'jsmith': {\n",
    "        'first': 'john',\n",
    "        'last': 'smith',\n",
    "        'location': 'New Jersey'\n",
    "    },\n",
    "    'jdoe': {\n",
    "        'first': 'jane',\n",
    "        'last': 'doe',\n",
    "        'location': 'Texas'\n",
    "    }\n",
    "}"
   ]
  },
  {
   "cell_type": "code",
   "execution_count": 45,
   "metadata": {},
   "outputs": [
    {
     "name": "stdout",
     "output_type": "stream",
     "text": [
      "\n",
      "Username: jsmith\n",
      "\tFull name: John Smith\n",
      "\tLocation: New Jersey\n",
      "\n",
      "Username: jdoe\n",
      "\tFull name: Jane Doe\n",
      "\tLocation: Texas\n"
     ]
    }
   ],
   "source": [
    "for username, user_info in programmers.items():\n",
    "    print(f\"\\nUsername: {username}\")\n",
    "    full_name = f\"{user_info['first']} {user_info['last']}\"\n",
    "    location = user_info['location']\n",
    "    print(f\"\\tFull name: {full_name.title()}\")\n",
    "    print(f\"\\tLocation: {location.title()}\")"
   ]
  }
 ],
 "metadata": {
  "kernelspec": {
   "display_name": "Python 3",
   "language": "python",
   "name": "python3"
  },
  "language_info": {
   "codemirror_mode": {
    "name": "ipython",
    "version": 3
   },
   "file_extension": ".py",
   "mimetype": "text/x-python",
   "name": "python",
   "nbconvert_exporter": "python",
   "pygments_lexer": "ipython3",
   "version": "3.7.6"
  }
 },
 "nbformat": 4,
 "nbformat_minor": 4
}
