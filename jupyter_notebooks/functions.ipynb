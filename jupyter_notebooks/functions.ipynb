{
 "cells": [
  {
   "cell_type": "code",
   "execution_count": 41,
   "metadata": {},
   "outputs": [],
   "source": [
    "def describe_pet(animal_type, pet_name):\n",
    "    \"\"\"Display information about a pet\"\"\"\n",
    "    print(f\"\\nI have a {animal_type}.\")\n",
    "    print(f\"My {animal_type}'s name is {pet_name.title()}.\")"
   ]
  },
  {
   "cell_type": "code",
   "execution_count": 42,
   "metadata": {},
   "outputs": [
    {
     "name": "stdout",
     "output_type": "stream",
     "text": [
      "\n",
      "I have a hamster.\n",
      "My hamster's name is Harry.\n",
      "\n",
      "I have a dog.\n",
      "My dog's name is Donald.\n",
      "\n",
      "I have a cat.\n",
      "My cat's name is Casey.\n"
     ]
    }
   ],
   "source": [
    "describe_pet('hamster', 'harry')\n",
    "describe_pet('dog', 'donald')\n",
    "describe_pet(animal_type='cat', pet_name='casey')"
   ]
  },
  {
   "cell_type": "code",
   "execution_count": 43,
   "metadata": {},
   "outputs": [],
   "source": [
    "def get_formatted_name(first_name, last_name):\n",
    "    \"\"\"Return a full name, neatly formatted\"\"\"\n",
    "    full_name = f\"{first_name} {last_name}\"\n",
    "    return full_name.title()"
   ]
  },
  {
   "cell_type": "code",
   "execution_count": 44,
   "metadata": {},
   "outputs": [
    {
     "name": "stdout",
     "output_type": "stream",
     "text": [
      "John Lennon\n"
     ]
    }
   ],
   "source": [
    "musician = get_formatted_name('john', 'lennon')\n",
    "print(musician)"
   ]
  },
  {
   "cell_type": "markdown",
   "metadata": {},
   "source": [
    "## Making an Argument Optional"
   ]
  },
  {
   "cell_type": "code",
   "execution_count": 45,
   "metadata": {},
   "outputs": [],
   "source": [
    "# Making an Argument Optional\n",
    "def get_formatted_name(first_name, middle_name, last_name):\n",
    "    \"\"\"Return a full name, neatly formatted.\"\"\"\n",
    "    full_name = f\"{first_name} {middle_name} {last_name}\"\n",
    "    return full_name.title()"
   ]
  },
  {
   "cell_type": "code",
   "execution_count": 46,
   "metadata": {},
   "outputs": [
    {
     "name": "stdout",
     "output_type": "stream",
     "text": [
      "Tupac Amaru Shakur\n"
     ]
    }
   ],
   "source": [
    "musician = get_formatted_name('tupac', 'amaru', 'shakur')\n",
    "print(musician)"
   ]
  },
  {
   "cell_type": "code",
   "execution_count": 47,
   "metadata": {},
   "outputs": [],
   "source": [
    "def get_formatted_name(first_name, last_name, middle_name=''):\n",
    "    \"\"\"Return a full name, neatly formatted. Middle name is optional\"\"\"\n",
    "    if middle_name:\n",
    "        full_name = f\"{first_name} {middle_name} {last_name}\"\n",
    "    else:\n",
    "        full_name = f\"{first_name} {last_name}\"\n",
    "    return full_name.title()"
   ]
  },
  {
   "cell_type": "code",
   "execution_count": 48,
   "metadata": {},
   "outputs": [
    {
     "name": "stdout",
     "output_type": "stream",
     "text": [
      "John Lennon\n",
      "Tupac Amaru Shakur\n"
     ]
    }
   ],
   "source": [
    "musician = get_formatted_name('john', 'lennon')\n",
    "print(musician)\n",
    "\n",
    "musician = get_formatted_name('tupac', 'shakur', 'amaru')\n",
    "print(musician)"
   ]
  },
  {
   "cell_type": "markdown",
   "metadata": {},
   "source": [
    "## Returning a Dictionary"
   ]
  },
  {
   "cell_type": "code",
   "execution_count": 49,
   "metadata": {},
   "outputs": [],
   "source": [
    "def build_person(first_name, last_name, age=None):\n",
    "    \"\"\"Return a dictionary of information about a person.\"\"\"\n",
    "    person = {'first': first_name, 'last': last_name}\n",
    "    if age:\n",
    "        person['age'] = age\n",
    "    return person"
   ]
  },
  {
   "cell_type": "code",
   "execution_count": 50,
   "metadata": {},
   "outputs": [
    {
     "name": "stdout",
     "output_type": "stream",
     "text": [
      "{'first': 'jimi', 'last': 'hendrix', 'age': 27}\n"
     ]
    }
   ],
   "source": [
    "musician = build_person('jimi', 'hendrix', age=27)\n",
    "print(musician)"
   ]
  },
  {
   "cell_type": "code",
   "execution_count": 51,
   "metadata": {},
   "outputs": [],
   "source": [
    "def get_formatted_name(first_name, last_name, time_of_day):\n",
    "    \"\"\"Return a full name, neatly formatted.\"\"\"\n",
    "    greeting = {'first': first_name, 'last': last_name, 'time': time_of_day}\n",
    "    return greeting"
   ]
  },
  {
   "cell_type": "code",
   "execution_count": 52,
   "metadata": {},
   "outputs": [
    {
     "name": "stdout",
     "output_type": "stream",
     "text": [
      "\n",
      "Please tell me your name (enter 'q' at any time to quit): \n",
      "First name: John\n",
      "Last name: Smith\n",
      "Is it morning, afternoon, or evening? (enter 'q' at any time to quit): morning\n",
      "Good morning John Smith\n",
      "\n",
      "Please tell me your name (enter 'q' at any time to quit): \n",
      "First name: q\n"
     ]
    }
   ],
   "source": [
    "while True:\n",
    "    print(\"\\nPlease tell me your name (enter 'q' at any time to quit): \")\n",
    "    f_name = input(\"First name: \")\n",
    "    if f_name == 'q':\n",
    "        break\n",
    "    l_name = input(\"Last name: \")\n",
    "    if l_name == 'q':\n",
    "        break\n",
    "    t_of_day = input(\"Is it morning, afternoon, or evening? (enter 'q' at any time to quit): \")\n",
    "    if t_of_day == 'q':\n",
    "        break\n",
    "    formatted_name = get_formatted_name(f_name, l_name, t_of_day)\n",
    "    print(f\"Good {formatted_name['time'].lower()} {formatted_name['first']} {formatted_name['last']}\")"
   ]
  },
  {
   "cell_type": "markdown",
   "metadata": {},
   "source": [
    "## Passing a List"
   ]
  },
  {
   "cell_type": "code",
   "execution_count": 53,
   "metadata": {},
   "outputs": [],
   "source": [
    "def greet_users(names):\n",
    "    \"\"\"Print a simple greeting to each user in the list.\"\"\"\n",
    "    for name in names:\n",
    "        msg = f\"Hello, {name.title()}!\"\n",
    "        print(msg)"
   ]
  },
  {
   "cell_type": "code",
   "execution_count": 54,
   "metadata": {
    "scrolled": true
   },
   "outputs": [
    {
     "name": "stdout",
     "output_type": "stream",
     "text": [
      "Hello, Hannah!\n",
      "Hello, Ty!\n",
      "Hello, Margot!\n"
     ]
    }
   ],
   "source": [
    "usernames = ['hannah', 'ty', 'margot']\n",
    "greet_users(usernames)"
   ]
  },
  {
   "cell_type": "markdown",
   "metadata": {},
   "source": [
    "## Modifying a List in a Function"
   ]
  },
  {
   "cell_type": "code",
   "execution_count": 55,
   "metadata": {},
   "outputs": [],
   "source": [
    "def invite(pending_invitations, invited):\n",
    "    \"\"\"Simulate the process of inviting people to a party, until there are no pending invitations\"\"\"\n",
    "    while pending_invitations:\n",
    "        current_invitation = pending_invitations.pop(0)\n",
    "        print(f\"Inviting: {current_invitation.title()}\")\n",
    "        invited.append(current_invitation.title())"
   ]
  },
  {
   "cell_type": "code",
   "execution_count": 56,
   "metadata": {},
   "outputs": [],
   "source": [
    "def show_invited(invited):\n",
    "    \"\"\"Show all the people that were invited\"\"\"\n",
    "    if len(invited) == 1:\n",
    "        print(\"\\nThe following person has been invited: \")\n",
    "        print(invited[0])\n",
    "    else:\n",
    "        print(\"\\nThe following people have been invited: \")\n",
    "        for inv in invited:\n",
    "            print(inv)"
   ]
  },
  {
   "cell_type": "code",
   "execution_count": 57,
   "metadata": {},
   "outputs": [
    {
     "name": "stdout",
     "output_type": "stream",
     "text": [
      "Inviting: Lance\n",
      "\n",
      "The following person has been invited: \n",
      "Lance\n",
      "Inviting: Lance\n",
      "Inviting: Kane\n",
      "Inviting: Olaf\n",
      "Inviting: Samantha\n",
      "\n",
      "The following people have been invited: \n",
      "Lance\n",
      "Kane\n",
      "Olaf\n",
      "Samantha\n",
      "['lance', 'kane', 'olaf', 'samantha']\n"
     ]
    }
   ],
   "source": [
    "p_invitations = ['lance']\n",
    "invs = []\n",
    "invite(p_invitations, invs)\n",
    "show_invited(invs)\n",
    "\n",
    "p_invitations = ['lance', 'kane', 'olaf', 'samantha']\n",
    "invs = []\n",
    "invite(p_invitations[:], invs)  # The slice notation [:] makes a copy of the list to send to the function\n",
    "show_invited(invs)\n",
    "print(p_invitations)"
   ]
  },
  {
   "cell_type": "markdown",
   "metadata": {},
   "source": [
    "## Passing an Arbitrary Number of Arguments"
   ]
  },
  {
   "cell_type": "code",
   "execution_count": 58,
   "metadata": {},
   "outputs": [],
   "source": [
    "def make_pizza(size, *toppings):\n",
    "    \"\"\"Summarize the pizza we are about to make.\"\"\"\n",
    "    print(f\"\\nMaking a {size}-inch pizza with the following toppings:\")\n",
    "    for topping in toppings:\n",
    "        print(f\"- {topping}\")"
   ]
  },
  {
   "cell_type": "code",
   "execution_count": 59,
   "metadata": {},
   "outputs": [
    {
     "name": "stdout",
     "output_type": "stream",
     "text": [
      "\n",
      "Making a 16-inch pizza with the following toppings:\n",
      "- pepperoni\n",
      "\n",
      "Making a 12-inch pizza with the following toppings:\n",
      "- mushrooms\n",
      "- green peppers\n",
      "- extra cheese\n"
     ]
    }
   ],
   "source": [
    "make_pizza(16, 'pepperoni')\n",
    "make_pizza(12, 'mushrooms', 'green peppers', 'extra cheese')"
   ]
  },
  {
   "cell_type": "markdown",
   "metadata": {},
   "source": [
    "## Using Arbitrary Keyword Arguments"
   ]
  },
  {
   "cell_type": "code",
   "execution_count": 60,
   "metadata": {},
   "outputs": [],
   "source": [
    "def build_customer(first, last, **customer_info):\n",
    "    \"\"\"Build a dictionary containing everything we know about a user.\"\"\"\n",
    "    customer_info['first_name'] = first\n",
    "    customer_info['last_name'] = last\n",
    "    return customer_info"
   ]
  },
  {
   "cell_type": "code",
   "execution_count": 61,
   "metadata": {},
   "outputs": [
    {
     "name": "stdout",
     "output_type": "stream",
     "text": [
      "{'location': 'new york city', 'diet': 'vegetarian', 'first_name': 'frank', 'last_name': 'spitz'}\n"
     ]
    }
   ],
   "source": [
    "customer = build_customer('frank', 'spitz', location='new york city', diet='vegetarian')\n",
    "print(customer)"
   ]
  },
  {
   "cell_type": "markdown",
   "metadata": {},
   "source": [
    "## Importing a function"
   ]
  },
  {
   "cell_type": "code",
   "execution_count": 62,
   "metadata": {},
   "outputs": [],
   "source": [
    "def get_ice_cream(size, flavor, *toppings):\n",
    "    \"\"\"Summarize the ice cream we are about to get.\"\"\"\n",
    "    print(f\"\\nGetting a {size} {flavor} ice cream cone with the following toppings:\")\n",
    "    for topping in toppings:\n",
    "        print(f\"- {topping}\")"
   ]
  },
  {
   "cell_type": "code",
   "execution_count": 63,
   "metadata": {},
   "outputs": [],
   "source": [
    "# Importing a function\n",
    "#import basics.functions.ice_cream as i\n",
    "#from basics.functions.ice_cream import get_ice_cream as mi\n",
    "\n",
    "#i.get_ice_cream('large', 'chocolate', 'oreos', 'sprinkles', 'cookie dough')\n",
    "#i.get_ice_cream('small', 'vanilla', 'chocolate syrup', \"m&m's\")\n",
    "\n",
    "#mi('large', 'pistachio', 'oreos', 'sprinkles', 'cookie dough')\n",
    "#mi('medium', 'strawberry', 'chocolate syrup', \"m&m's\")"
   ]
  }
 ],
 "metadata": {
  "kernelspec": {
   "display_name": "Python 3",
   "language": "python",
   "name": "python3"
  },
  "language_info": {
   "codemirror_mode": {
    "name": "ipython",
    "version": 3
   },
   "file_extension": ".py",
   "mimetype": "text/x-python",
   "name": "python",
   "nbconvert_exporter": "python",
   "pygments_lexer": "ipython3",
   "version": "3.7.6"
  }
 },
 "nbformat": 4,
 "nbformat_minor": 4
}
