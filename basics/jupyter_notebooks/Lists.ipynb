{
 "cells": [
  {
   "cell_type": "markdown",
   "metadata": {},
   "source": [
    "## List initialization and indexing"
   ]
  },
  {
   "cell_type": "code",
   "execution_count": 1,
   "metadata": {},
   "outputs": [],
   "source": [
    "shoes = ['nike', 'reebok', 'adidas', 'puma']"
   ]
  },
  {
   "cell_type": "code",
   "execution_count": 2,
   "metadata": {},
   "outputs": [
    {
     "name": "stdout",
     "output_type": "stream",
     "text": [
      "['nike', 'reebok', 'adidas', 'puma']\n",
      "nike\n",
      "Nike\n",
      "puma\n"
     ]
    }
   ],
   "source": [
    "print(shoes)\n",
    "print(shoes[0])\n",
    "print(shoes[0].title())\n",
    "print(shoes[-1])"
   ]
  },
  {
   "cell_type": "code",
   "execution_count": 3,
   "metadata": {},
   "outputs": [],
   "source": [
    "message = f\"My first shoe brand was {shoes[0].title()}.\""
   ]
  },
  {
   "cell_type": "code",
   "execution_count": 4,
   "metadata": {},
   "outputs": [
    {
     "name": "stdout",
     "output_type": "stream",
     "text": [
      "My first shoe brand was Nike.\n"
     ]
    }
   ],
   "source": [
    "print(message)"
   ]
  },
  {
   "cell_type": "markdown",
   "metadata": {},
   "source": [
    "## Adding to a list"
   ]
  },
  {
   "cell_type": "code",
   "execution_count": 5,
   "metadata": {},
   "outputs": [],
   "source": [
    "shoes.append('fila')"
   ]
  },
  {
   "cell_type": "code",
   "execution_count": 6,
   "metadata": {},
   "outputs": [
    {
     "name": "stdout",
     "output_type": "stream",
     "text": [
      "['nike', 'reebok', 'adidas', 'puma', 'fila']\n"
     ]
    }
   ],
   "source": [
    "print(shoes)"
   ]
  },
  {
   "cell_type": "markdown",
   "metadata": {},
   "source": [
    "## Adding elements to an empty list"
   ]
  },
  {
   "cell_type": "code",
   "execution_count": 8,
   "metadata": {},
   "outputs": [],
   "source": [
    "shoes = []\n",
    "shoes.append('nike')\n",
    "shoes.append('reebok')\n",
    "shoes.append('adidas')\n",
    "shoes.append('puma')"
   ]
  },
  {
   "cell_type": "code",
   "execution_count": 9,
   "metadata": {},
   "outputs": [
    {
     "name": "stdout",
     "output_type": "stream",
     "text": [
      "['nike', 'reebok', 'adidas', 'puma']\n"
     ]
    }
   ],
   "source": [
    "print(shoes)"
   ]
  },
  {
   "cell_type": "markdown",
   "metadata": {},
   "source": [
    "## Inserting into a list"
   ]
  },
  {
   "cell_type": "code",
   "execution_count": 10,
   "metadata": {},
   "outputs": [],
   "source": [
    "shoes.insert(0, 'fila')"
   ]
  },
  {
   "cell_type": "code",
   "execution_count": 11,
   "metadata": {},
   "outputs": [
    {
     "name": "stdout",
     "output_type": "stream",
     "text": [
      "['fila', 'nike', 'reebok', 'adidas', 'puma']\n"
     ]
    }
   ],
   "source": [
    "print(shoes)"
   ]
  },
  {
   "cell_type": "markdown",
   "metadata": {},
   "source": [
    "## Removing an item from a list: using del"
   ]
  },
  {
   "cell_type": "code",
   "execution_count": 12,
   "metadata": {},
   "outputs": [
    {
     "name": "stdout",
     "output_type": "stream",
     "text": [
      "['nike', 'reebok', 'adidas', 'puma']\n"
     ]
    }
   ],
   "source": [
    "del shoes[0]\n",
    "print(shoes)"
   ]
  },
  {
   "cell_type": "markdown",
   "metadata": {},
   "source": [
    "## Removing an item from a list: using pop()"
   ]
  },
  {
   "cell_type": "code",
   "execution_count": 13,
   "metadata": {},
   "outputs": [],
   "source": [
    "popped_shoe = shoes.pop()  # \"pops\" off last item in list"
   ]
  },
  {
   "cell_type": "code",
   "execution_count": 15,
   "metadata": {},
   "outputs": [
    {
     "name": "stdout",
     "output_type": "stream",
     "text": [
      "['reebok', 'adidas']\n",
      "puma\n"
     ]
    }
   ],
   "source": [
    "print(shoes)\n",
    "print(popped_shoe)"
   ]
  },
  {
   "cell_type": "code",
   "execution_count": 16,
   "metadata": {},
   "outputs": [
    {
     "name": "stdout",
     "output_type": "stream",
     "text": [
      "The last shoe I owned was a Puma.\n",
      "The first shoe I owned was a Reebok.\n"
     ]
    }
   ],
   "source": [
    "print(f\"The last shoe I owned was a {popped_shoe.title()}.\")\n",
    "first_owned = shoes.pop(0)\n",
    "print(f\"The first shoe I owned was a {first_owned.title()}.\")"
   ]
  },
  {
   "cell_type": "markdown",
   "metadata": {},
   "source": [
    "## Removing an item from a list: using remove()"
   ]
  },
  {
   "cell_type": "code",
   "execution_count": 17,
   "metadata": {},
   "outputs": [
    {
     "name": "stdout",
     "output_type": "stream",
     "text": [
      "['nike', 'reebok', 'adidas', 'puma']\n"
     ]
    }
   ],
   "source": [
    "shoes = ['nike', 'reebok', 'adidas', 'puma']\n",
    "print(shoes)"
   ]
  },
  {
   "cell_type": "code",
   "execution_count": 18,
   "metadata": {},
   "outputs": [
    {
     "name": "stdout",
     "output_type": "stream",
     "text": [
      "['nike', 'adidas', 'puma']\n"
     ]
    }
   ],
   "source": [
    "shoes.remove('reebok')\n",
    "print(shoes)"
   ]
  },
  {
   "cell_type": "markdown",
   "metadata": {},
   "source": [
    "## Sorting a list permanently"
   ]
  },
  {
   "cell_type": "code",
   "execution_count": 19,
   "metadata": {},
   "outputs": [],
   "source": [
    "shoes = ['nike', 'reebok', 'adidas', 'puma']"
   ]
  },
  {
   "cell_type": "code",
   "execution_count": 20,
   "metadata": {},
   "outputs": [
    {
     "name": "stdout",
     "output_type": "stream",
     "text": [
      "['adidas', 'nike', 'puma', 'reebok']\n"
     ]
    }
   ],
   "source": [
    "shoes.sort()\n",
    "print(shoes)"
   ]
  },
  {
   "cell_type": "code",
   "execution_count": 21,
   "metadata": {},
   "outputs": [
    {
     "name": "stdout",
     "output_type": "stream",
     "text": [
      "['reebok', 'puma', 'nike', 'adidas']\n"
     ]
    }
   ],
   "source": [
    "shoes.sort(reverse=True)\n",
    "print(shoes)"
   ]
  },
  {
   "cell_type": "markdown",
   "metadata": {},
   "source": [
    "## Sorting a list temporarily"
   ]
  },
  {
   "cell_type": "code",
   "execution_count": 24,
   "metadata": {},
   "outputs": [
    {
     "name": "stdout",
     "output_type": "stream",
     "text": [
      "\n",
      "Here is the sorted list:\n",
      "['adidas', 'nike', 'puma', 'reebok']\n",
      "\n",
      "Here is the unsorted list:\n",
      "['reebok', 'puma', 'nike', 'adidas']\n"
     ]
    }
   ],
   "source": [
    "print(\"\\nHere is the sorted list:\")\n",
    "print(sorted(shoes))\n",
    "print(\"\\nHere is the unsorted list:\")\n",
    "print(shoes)"
   ]
  },
  {
   "cell_type": "markdown",
   "metadata": {},
   "source": [
    "## Printing list in reverse order"
   ]
  },
  {
   "cell_type": "code",
   "execution_count": 25,
   "metadata": {},
   "outputs": [
    {
     "name": "stdout",
     "output_type": "stream",
     "text": [
      "['nike', 'reebok', 'adidas', 'puma']\n"
     ]
    }
   ],
   "source": [
    "shoes = ['nike', 'reebok', 'adidas', 'puma']\n",
    "print(shoes)"
   ]
  },
  {
   "cell_type": "code",
   "execution_count": 27,
   "metadata": {},
   "outputs": [
    {
     "name": "stdout",
     "output_type": "stream",
     "text": [
      "\n",
      "Here is the reverse list:\n",
      "['puma', 'adidas', 'reebok', 'nike']\n"
     ]
    }
   ],
   "source": [
    "print(\"\\nHere is the reverse list:\")\n",
    "shoes.reverse()\n",
    "print(shoes)"
   ]
  }
 ],
 "metadata": {
  "kernelspec": {
   "display_name": "Python 3",
   "language": "python",
   "name": "python3"
  },
  "language_info": {
   "codemirror_mode": {
    "name": "ipython",
    "version": 3
   },
   "file_extension": ".py",
   "mimetype": "text/x-python",
   "name": "python",
   "nbconvert_exporter": "python",
   "pygments_lexer": "ipython3",
   "version": "3.7.4"
  }
 },
 "nbformat": 4,
 "nbformat_minor": 4
}
