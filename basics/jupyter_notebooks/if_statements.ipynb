{
 "cells": [
  {
   "cell_type": "code",
   "execution_count": 1,
   "metadata": {},
   "outputs": [],
   "source": [
    "fav_toppings = ['mushrooms', 'onions', 'pineapples', 'chicken']"
   ]
  },
  {
   "cell_type": "markdown",
   "metadata": {},
   "source": [
    "## if-else"
   ]
  },
  {
   "cell_type": "code",
   "execution_count": 2,
   "metadata": {},
   "outputs": [
    {
     "name": "stdout",
     "output_type": "stream",
     "text": [
      "Mushrooms, extra please\n",
      "Onions, I think I will skip on those today\n",
      "Pineapples, extra please\n",
      "Chicken, extra please\n"
     ]
    }
   ],
   "source": [
    "for fav_topping in fav_toppings:\n",
    "    if fav_topping == 'onions':\n",
    "        print(f'{fav_topping.title()}, I think I will skip on those today')\n",
    "    else:\n",
    "        print(f'{fav_topping.title()}, extra please')"
   ]
  },
  {
   "cell_type": "markdown",
   "metadata": {},
   "source": [
    "## if-else if-else"
   ]
  },
  {
   "cell_type": "code",
   "execution_count": 3,
   "metadata": {},
   "outputs": [],
   "source": [
    "guesses = [23, 1, 54, 43, 21, 59]\n",
    "answer = 59"
   ]
  },
  {
   "cell_type": "code",
   "execution_count": 5,
   "metadata": {},
   "outputs": [
    {
     "name": "stdout",
     "output_type": "stream",
     "text": [
      "You are 36 under\n",
      "You are 58 under\n",
      "You are 5 under\n",
      "You are 16 under\n",
      "You are 38 under\n",
      "Wow you finally got it right\n"
     ]
    }
   ],
   "source": [
    "for guess in guesses:  # if-else if-else\n",
    "    if guess < answer:\n",
    "        print(f'You are {answer - guess} under')\n",
    "    elif guess > answer:\n",
    "        print(f'You are {guess - answer} over')\n",
    "    else:\n",
    "        print('Wow you finally got it right')"
   ]
  },
  {
   "cell_type": "markdown",
   "metadata": {},
   "source": [
    "## Other list related if statements"
   ]
  },
  {
   "cell_type": "code",
   "execution_count": 7,
   "metadata": {},
   "outputs": [],
   "source": [
    "fav_toppings = ['mushrooms', 'onions', 'pineapples', 'chicken']"
   ]
  },
  {
   "cell_type": "code",
   "execution_count": 8,
   "metadata": {},
   "outputs": [
    {
     "name": "stdout",
     "output_type": "stream",
     "text": [
      "Hold the mushrooms!\n",
      "Hold the onions!\n",
      "Hold the pineapples!\n"
     ]
    }
   ],
   "source": [
    "for fav_topping in fav_toppings:\n",
    "    if fav_topping != 'chicken':  # != means not equals\n",
    "        print(f'Hold the {fav_topping}!')"
   ]
  },
  {
   "cell_type": "code",
   "execution_count": 9,
   "metadata": {},
   "outputs": [
    {
     "name": "stdout",
     "output_type": "stream",
     "text": [
      "Luckily we have Pepperoni for you today\n"
     ]
    }
   ],
   "source": [
    "bad_toppings = ['peppers', 'anchovies', 'olives']\n",
    "requested_topping = 'pepperoni'\n",
    "if requested_topping not in bad_toppings:\n",
    "    print(f'Luckily we have {requested_topping.title()} for you today')"
   ]
  },
  {
   "cell_type": "code",
   "execution_count": 10,
   "metadata": {},
   "outputs": [
    {
     "name": "stdout",
     "output_type": "stream",
     "text": [
      "Adding mushrooms\n",
      "Adding extra cheese\n",
      "\n",
      "Finished making your pizza!\n"
     ]
    }
   ],
   "source": [
    "requested_toppings = ['mushrooms', 'extra cheese']\n",
    "if 'mushrooms' in requested_toppings:\n",
    "    print(\"Adding mushrooms\")\n",
    "if 'pepperoni' in requested_toppings:\n",
    "    print(\"Adding pepperoni\")\n",
    "if 'extra cheese' in requested_toppings:\n",
    "    print(\"Adding extra cheese\")\n",
    "print(\"\\nFinished making your pizza!\")"
   ]
  },
  {
   "cell_type": "code",
   "execution_count": 12,
   "metadata": {},
   "outputs": [
    {
     "name": "stdout",
     "output_type": "stream",
     "text": [
      "Adding mushrooms.\n",
      "Sorry, we are out of green peppers right now.\n",
      "Adding extra cheese.\n",
      "\n",
      "Finished making your pizza!\n"
     ]
    }
   ],
   "source": [
    "# Checking for special items\n",
    "requested_toppings = ['mushrooms', 'green peppers', 'extra cheese']\n",
    "for requested_topping in requested_toppings:\n",
    "    if requested_topping == 'green peppers':\n",
    "        print(\"Sorry, we are out of green peppers right now.\")\n",
    "    else:\n",
    "        print(f\"Adding {requested_topping}.\")\n",
    "print(\"\\nFinished making your pizza!\")"
   ]
  },
  {
   "cell_type": "code",
   "execution_count": null,
   "metadata": {},
   "outputs": [],
   "source": []
  }
 ],
 "metadata": {
  "kernelspec": {
   "display_name": "Python 3",
   "language": "python",
   "name": "python3"
  },
  "language_info": {
   "codemirror_mode": {
    "name": "ipython",
    "version": 3
   },
   "file_extension": ".py",
   "mimetype": "text/x-python",
   "name": "python",
   "nbconvert_exporter": "python",
   "pygments_lexer": "ipython3",
   "version": "3.7.6"
  }
 },
 "nbformat": 4,
 "nbformat_minor": 4
}
