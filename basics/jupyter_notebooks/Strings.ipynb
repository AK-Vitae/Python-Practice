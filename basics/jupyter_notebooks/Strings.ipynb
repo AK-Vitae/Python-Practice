{
 "cells": [
  {
   "cell_type": "code",
   "execution_count": 30,
   "metadata": {},
   "outputs": [],
   "source": [
    "name = \"john smith\""
   ]
  },
  {
   "cell_type": "code",
   "execution_count": 31,
   "metadata": {},
   "outputs": [
    {
     "name": "stdout",
     "output_type": "stream",
     "text": [
      "John Smith\n"
     ]
    }
   ],
   "source": [
    "print(name.title()) # title() method changes each word to title case"
   ]
  },
  {
   "cell_type": "code",
   "execution_count": 32,
   "metadata": {},
   "outputs": [],
   "source": [
    "name = \"John Smith\""
   ]
  },
  {
   "cell_type": "code",
   "execution_count": 33,
   "metadata": {
    "scrolled": true
   },
   "outputs": [
    {
     "name": "stdout",
     "output_type": "stream",
     "text": [
      "john smith\n",
      "JOHN SMITH\n"
     ]
    }
   ],
   "source": [
    "print(name.lower())  # lower() method changes each letter to lower case\n",
    "print(name.upper())  # upper() method changes each letter to upper casedcLFpr3dE791"
   ]
  },
  {
   "cell_type": "markdown",
   "metadata": {},
   "source": [
    "# String Indexing"
   ]
  },
  {
   "cell_type": "code",
   "execution_count": 34,
   "metadata": {},
   "outputs": [],
   "source": [
    "my_string = \"Hello World\""
   ]
  },
  {
   "cell_type": "code",
   "execution_count": 35,
   "metadata": {},
   "outputs": [
    {
     "name": "stdout",
     "output_type": "stream",
     "text": [
      "H\n",
      "d\n"
     ]
    }
   ],
   "source": [
    "print(my_string[0])  # First character of string\n",
    "print(my_string[-1])  # Last character of string"
   ]
  },
  {
   "cell_type": "code",
   "execution_count": 36,
   "metadata": {},
   "outputs": [],
   "source": [
    "my_string = \"abcdefghijk\""
   ]
  },
  {
   "cell_type": "code",
   "execution_count": 37,
   "metadata": {},
   "outputs": [
    {
     "name": "stdout",
     "output_type": "stream",
     "text": [
      "cdefghijk\n",
      "abc\n",
      "def\n",
      "acegik\n",
      "kjihgfedcba\n"
     ]
    }
   ],
   "source": [
    "print(my_string[2:])  # Every character from index 2 to the end\n",
    "print(my_string[:3])  # Every character from beginning up to index 3\n",
    "print(my_string[3:6])  # Every character from index 3 up to index 5\n",
    "print(my_string[::2])  # Prints string with step size of 2\n",
    "print(my_string[::-1])  # Reverses string"
   ]
  },
  {
   "cell_type": "markdown",
   "metadata": {},
   "source": [
    "# String Formating and other basic methods"
   ]
  },
  {
   "cell_type": "code",
   "execution_count": 38,
   "metadata": {},
   "outputs": [],
   "source": [
    "first_name = \"john\"\n",
    "last_name = \"smith\"\n",
    "full_name = f\"{first_name} {last_name}\"\n",
    "age = 24.5"
   ]
  },
  {
   "cell_type": "code",
   "execution_count": 39,
   "metadata": {},
   "outputs": [
    {
     "name": "stdout",
     "output_type": "stream",
     "text": [
      "john smith\n"
     ]
    }
   ],
   "source": [
    "print(full_name)"
   ]
  },
  {
   "cell_type": "code",
   "execution_count": 40,
   "metadata": {},
   "outputs": [
    {
     "name": "stdout",
     "output_type": "stream",
     "text": [
      "10\n"
     ]
    }
   ],
   "source": [
    "print(len(full_name))  # length of string, includes white space"
   ]
  },
  {
   "cell_type": "code",
   "execution_count": 41,
   "metadata": {},
   "outputs": [
    {
     "name": "stdout",
     "output_type": "stream",
     "text": [
      "\n",
      "john smith\n",
      "\tjohn smith\n"
     ]
    }
   ],
   "source": [
    "print(f\"\\n{full_name}\")  # new line\n",
    "print(f\"\\t{full_name}\")  # tabbed line"
   ]
  },
  {
   "cell_type": "code",
   "execution_count": 42,
   "metadata": {},
   "outputs": [
    {
     "name": "stdout",
     "output_type": "stream",
     "text": [
      "['john', 'smith']\n"
     ]
    }
   ],
   "source": [
    "print(full_name.split())  # creates list out of string"
   ]
  },
  {
   "cell_type": "code",
   "execution_count": 43,
   "metadata": {
    "scrolled": true
   },
   "outputs": [
    {
     "name": "stdout",
     "output_type": "stream",
     "text": [
      "Hello, John Smith!\n",
      "Your age is:   24.5000\n"
     ]
    }
   ],
   "source": [
    "print(f\"Hello, {full_name.title()}!\")\n",
    "print(f\"Your age is:{age:10.4f}\")  # formats floating point output to 4 decimal spaces"
   ]
  },
  {
   "cell_type": "code",
   "execution_count": 44,
   "metadata": {},
   "outputs": [
    {
     "data": {
      "text/plain": [
       "'john smith'"
      ]
     },
     "execution_count": 44,
     "metadata": {},
     "output_type": "execute_result"
    }
   ],
   "source": [
    "full_name.rstrip()  # removes white space right of String\n",
    "full_name.lstrip()  # removes white space left of String\n",
    "full_name.strip()  # removes white space on both sides of String"
   ]
  }
 ],
 "metadata": {
  "kernelspec": {
   "display_name": "Python 3",
   "language": "python",
   "name": "python3"
  },
  "language_info": {
   "codemirror_mode": {
    "name": "ipython",
    "version": 3
   },
   "file_extension": ".py",
   "mimetype": "text/x-python",
   "name": "python",
   "nbconvert_exporter": "python",
   "pygments_lexer": "ipython3",
   "version": "3.7.6"
  }
 },
 "nbformat": 4,
 "nbformat_minor": 4
}
